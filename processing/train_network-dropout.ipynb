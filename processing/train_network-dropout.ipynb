{
 "cells": [
  {
   "cell_type": "markdown",
   "metadata": {},
   "source": [
    "# Train a neural network."
   ]
  },
  {
   "cell_type": "code",
   "execution_count": null,
   "metadata": {},
   "outputs": [],
   "source": [
    "import tensorflow as tf\n",
    "import tensorflow.keras as keras\n",
    "import numpy as np\n",
    "import pandas as pd\n",
    "from sklearn.model_selection import train_test_split\n",
    "import matplotlib.pyplot as plt"
   ]
  },
  {
   "cell_type": "markdown",
   "metadata": {},
   "source": [
    "Set seeds"
   ]
  },
  {
   "cell_type": "code",
   "execution_count": null,
   "metadata": {},
   "outputs": [],
   "source": [
    "np.random.seed(1)\n",
    "tf.random.set_seed(1)"
   ]
  },
  {
   "cell_type": "markdown",
   "metadata": {},
   "source": [
    "Set parameters"
   ]
  },
  {
   "cell_type": "code",
   "execution_count": null,
   "metadata": {},
   "outputs": [],
   "source": [
    "# file with training input and output data: format is x,y\n",
    "input_file = 'training.csv'\n",
    "\n",
    "# names of input/output columns\n",
    "inputs = ['mu', 'angle', 'threshold']\n",
    "outputs = ['low_speed', 'high_speed']\n",
    "\n",
    "# these set the input/output dimensions of the network\n",
    "input_size = len(inputs)\n",
    "output_size = len(outputs)"
   ]
  },
  {
   "cell_type": "markdown",
   "metadata": {},
   "source": [
    "Read data"
   ]
  },
  {
   "cell_type": "code",
   "execution_count": null,
   "metadata": {},
   "outputs": [],
   "source": [
    "data = pd.read_csv(input_file)\n",
    "data.columns = inputs + outputs\n",
    "\n",
    "x = np.array(data[inputs])\n",
    "y = np.array(data[outputs])"
   ]
  },
  {
   "cell_type": "markdown",
   "metadata": {},
   "source": [
    "Normalizing preprocessing layer from training data"
   ]
  },
  {
   "cell_type": "code",
   "execution_count": null,
   "metadata": {},
   "outputs": [],
   "source": [
    "normalizer = keras.layers.experimental.preprocessing.Normalization()\n",
    "normalizer.adapt(x)"
   ]
  },
  {
   "cell_type": "markdown",
   "metadata": {},
   "source": [
    "Penalize overpredictions more than underpredictions"
   ]
  },
  {
   "cell_type": "code",
   "execution_count": null,
   "metadata": {},
   "outputs": [],
   "source": [
    "def asymmetric_mse(y_true, y_pred):\n",
    "    standard_mse = keras.losses.mse(y_true, y_pred)\n",
    "    geq = keras.backend.any(keras.backend.greater(y_pred, y_true)) # true/false, are there overpredictions?\n",
    "    geq_scale = keras.backend.switch(geq,5.0,1.0) # if there are overpredictions, scale up mse\n",
    "    return geq_scale * standard_mse"
   ]
  },
  {
   "cell_type": "markdown",
   "metadata": {},
   "source": [
    "Base model"
   ]
  },
  {
   "cell_type": "code",
   "execution_count": null,
   "metadata": {},
   "outputs": [],
   "source": [
    "# model = keras.models.Sequential()\n",
    "# model.add(keras.layers.Dense(input_size, activation='linear'))\n",
    "# #model.add(keras.layers.Dense(20,activation='relu'))\n",
    "# model.add(keras.layers.Dense(4,activation='relu'))\n",
    "# #model.add(keras.layers.Dropout(0.05,training=True))\n",
    "# model.add(keras.layers.Dense(output_size,activation='relu'))\n",
    "# model.compile(loss='mse',optimizer='adam')"
   ]
  },
  {
   "cell_type": "markdown",
   "metadata": {},
   "source": [
    "Compile model"
   ]
  },
  {
   "cell_type": "code",
   "execution_count": null,
   "metadata": {},
   "outputs": [],
   "source": [
    "input_shape = x.shape[1:]\n",
    "full_model_input = keras.Input(shape=input_shape)\n",
    "normalized_input = normalizer(full_model_input)\n",
    "dense_layer = keras.layers.Dense(20, activation='relu')(normalized_input)\n",
    "dropout_layer = keras.layers.Dropout(0.25)(dense_layer,training=True) # https://github.com/keras-team/keras/issues/9412#issuecomment-366487249\n",
    "full_model_output = keras.layers.Dense(output_size,activation='relu')(dropout_layer)\n",
    "full_model = keras.Model(full_model_input, full_model_output)\n",
    "full_model.compile(loss='mse',optimizer='adam',metrics=['mse'])"
   ]
  },
  {
   "cell_type": "markdown",
   "metadata": {},
   "source": [
    "Split data"
   ]
  },
  {
   "cell_type": "code",
   "execution_count": null,
   "metadata": {},
   "outputs": [],
   "source": [
    "x_train, x_val, y_train, y_val = train_test_split(x, y, test_size=0.33, shuffle= True)"
   ]
  },
  {
   "cell_type": "markdown",
   "metadata": {},
   "source": [
    "Train model"
   ]
  },
  {
   "cell_type": "code",
   "execution_count": null,
   "metadata": {},
   "outputs": [],
   "source": [
    "model_output = full_model.fit(x_train,y_train,epochs=700,batch_size=10,verbose=0,validation_data=(x_val,y_val)) # check validation"
   ]
  },
  {
   "cell_type": "markdown",
   "metadata": {},
   "source": [
    "View training"
   ]
  },
  {
   "cell_type": "code",
   "execution_count": null,
   "metadata": {},
   "outputs": [],
   "source": [
    "plt.yscale('log')\n",
    "plt.title('loss')\n",
    "plt.plot(model_output.history['loss'], label='train')\n",
    "plt.plot(model_output.history['val_loss'], label='validation')\n",
    "plt.legend()\n",
    "plt.figure()\n",
    "plt.yscale('log')\n",
    "plt.title('mse')\n",
    "plt.plot(model_output.history['mse'], label='train')\n",
    "plt.plot(model_output.history['val_mse'], label='validation')\n",
    "plt.legend()\n",
    "plt.figure()"
   ]
  },
  {
   "cell_type": "markdown",
   "metadata": {},
   "source": [
    "View output"
   ]
  },
  {
   "cell_type": "code",
   "execution_count": null,
   "metadata": {},
   "outputs": [],
   "source": [
    "# plot speed vs angle given mu, threshold\n",
    "mu = 0.009 # set mu\n",
    "thresh = 4 # set threshold\n",
    "\n",
    "# bug: mu = 0.009 is read as 0.0090..01\n",
    "#plot_values = [i for i in x if i[0] == mu and i[2] == thresh] # x, y\n",
    "plot_x = [i for i in x if np.isclose(i[0], mu) and i[2] == thresh] # x, y\n",
    "# this is not generic enough...\n",
    "pred_x = [[mu,angle,thresh] for angle in np.linspace(0,165,165)]\n",
    "pred = full_model.predict(pred_x)\n",
    "\n",
    "plt.title('mu = %s, thresh = %s' % (mu, thresh))\n",
    "plt.xlabel('angle (degrees)')\n",
    "plt.ylabel('speed (m/s)')\n",
    "#plt.plot([i[1] for i in plot_values], [y[i] for i,v in enumerate(x) if v[0] == mu and v[2] == thresh])\n",
    "plt.plot([i[1] for i in plot_x], [y[i] for i,v in enumerate(x) if np.isclose(v[0], mu) and v[2] == thresh], marker='o')\n",
    "plt.plot([i[1] for i in pred_x], pred, label='pred')\n",
    "plt.legend()"
   ]
  },
  {
   "cell_type": "code",
   "execution_count": null,
   "metadata": {},
   "outputs": [],
   "source": [
    "# plot speed vs angle given mu, threshold\n",
    "mu = 0.009 # set mu\n",
    "thresh = 4 # set threshold\n",
    "\n",
    "# bug: mu = 0.009 is read as 0.0090..01\n",
    "#plot_values = [i for i in x if i[0] == mu and i[2] == thresh] # x, y\n",
    "for i in range(0, 5):\n",
    "    plot_x = [i for i in x if np.isclose(i[0], mu) and i[2] == thresh] # x, y\n",
    "    # this is not generic enough...\n",
    "    pred_x = [[mu,angle,thresh] for angle in np.linspace(0,165,165)]\n",
    "    pred = full_model.predict(pred_x)\n",
    "    plt.scatter([i[1] for i in pred_x], pred[...,1])\n",
    "plt.plot([i[1] for i in plot_x], [y[i][1] for i,v in enumerate(x) if np.isclose(v[0], mu) and v[2] == thresh], label='train')"
   ]
  },
  {
   "cell_type": "code",
   "execution_count": null,
   "metadata": {},
   "outputs": [],
   "source": [
    "full_model.predict([[0.009,90,4]])"
   ]
  },
  {
   "cell_type": "code",
   "execution_count": null,
   "metadata": {},
   "outputs": [],
   "source": [
    "# http://www.cs.ox.ac.uk/people/yarin.gal/website/blog_3d801aa532c1ce.html\n",
    "dropout_prob = 0.05\n",
    "T = 100\n",
    "input_x = [[1,1,1]]\n",
    "l = 1 # how to set???\n",
    "N = len(x[...,0])\n",
    "weight_decay = 0.01 # maybe?\n",
    "\n",
    "probs = []\n",
    "for i in range(0,T):\n",
    "    probs += [full_model.predict(input_x)]\n",
    "predictive_mean = np.mean(probs, axis=0)\n",
    "predictive_variance = np.var(probs, axis=0)\n",
    "tau = l**2 * (1 - dropout_prob) / (2 * N * weight_decay)\n",
    "predictive_variance += tau**-1\n",
    "print(predictive_mean, predictive_variance)"
   ]
  },
  {
   "cell_type": "code",
   "execution_count": null,
   "metadata": {},
   "outputs": [],
   "source": [
    "plt.hist(full_model.predict(1000*[[0.009,150,4]])[...,1])\n",
    "plt.ylabel('number of predictions')\n",
    "plt.xlabel('high velocity prediction')\n",
    "plt.title('mu = 0.009, angle = 150, threshold = 4')"
   ]
  },
  {
   "cell_type": "code",
   "execution_count": null,
   "metadata": {},
   "outputs": [],
   "source": [
    "#weights\n",
    "fig = plt.figure()\n",
    "plt.subplot(2, 2, 1)\n",
    "plt.hist(full_model.layers[2].get_weights()[0][0])\n",
    "plt.subplot(2, 2, 2)\n",
    "plt.hist(full_model.layers[2].get_weights()[0][1])\n",
    "plt.subplot(2, 2, 3)\n",
    "plt.hist(full_model.layers[2].get_weights()[0][2])\n",
    "plt.show()"
   ]
  },
  {
   "cell_type": "markdown",
   "metadata": {},
   "source": [
    "Save model"
   ]
  },
  {
   "cell_type": "code",
   "execution_count": null,
   "metadata": {},
   "outputs": [],
   "source": [
    "full_model.save(\"2_speed_network_dropout.h5\")"
   ]
  },
  {
   "cell_type": "markdown",
   "metadata": {},
   "source": [
    "Find largest divergence between prediction and training data"
   ]
  },
  {
   "cell_type": "code",
   "execution_count": null,
   "metadata": {},
   "outputs": [],
   "source": [
    "divergence = (full_model.predict(x) - y)\n",
    "max_divergence = max([i[1] for i in divergence])\n",
    "print(max_divergence)\n",
    "#print(max_divergence, x[np.where(divergence == max_divergence)[0]])"
   ]
  },
  {
   "cell_type": "markdown",
   "metadata": {},
   "source": [
    "Make a lot of plots"
   ]
  },
  {
   "cell_type": "code",
   "execution_count": null,
   "metadata": {},
   "outputs": [],
   "source": [
    "# only plot the high prediction...\n",
    "mus = data['mu'].unique()\n",
    "angles = data['angle'].unique()\n",
    "thresholds = data['threshold'].unique()\n",
    "a=0\n",
    "# plot speed vs angle given mu, threshold\n",
    "for mu in mus:\n",
    "    for threshold in thresholds:\n",
    "        # bug: mu = 0.009 is read as 0.0090..01\n",
    "        #plot_values = [i for i in x if i[0] == mu and i[2] == thresh] # x, y\n",
    "        plot_x = [i for i in x if np.isclose(i[0], mu) and i[2] == threshold] # x, y\n",
    "        pred_x = [[mu,angle,threshold] for angle in np.linspace(angles.min(),angles.max(),angles.max())]\n",
    "        #plt.plot([i[1] for i in plot_values], [y[i] for i,v in enumerate(x) if v[0] == mu and v[2] == thresh])\n",
    "        fig = plt.figure()\n",
    "        plt.title('mu: %.3f, threshold: %.2f' % (mu, threshold))\n",
    "        plt.plot([i[1] for i in plot_x], [y[i][1] for i,v in enumerate(x) if np.isclose(v[0], mu) and v[2] == threshold],\n",
    "                label = 'training')\n",
    "        #plt.plot([i[1] for i in pred_x], [i[1] for i in pred], label = 'predicted')\n",
    "        plt.legend()\n",
    "        for i in range(0, 20):\n",
    "            pred = full_model.predict(pred_x)\n",
    "            plt.scatter([i[1] for i in pred_x], pred[...,1], c='grey', alpha='0.5')\n",
    "        plt.savefig('dropout_plots/mu-%.3f_threshold-%.2f.png' % (mu,threshold))\n",
    "        plt.close()"
   ]
  }
 ],
 "metadata": {
  "kernelspec": {
   "display_name": "Tensorflow 2.1/Keras Py3.7",
   "language": "python",
   "name": "tensorflow210_py37"
  },
  "language_info": {
   "codemirror_mode": {
    "name": "ipython",
    "version": 3
   },
   "file_extension": ".py",
   "mimetype": "text/x-python",
   "name": "python",
   "nbconvert_exporter": "python",
   "pygments_lexer": "ipython3",
   "version": "3.7.5"
  }
 },
 "nbformat": 4,
 "nbformat_minor": 4
}
