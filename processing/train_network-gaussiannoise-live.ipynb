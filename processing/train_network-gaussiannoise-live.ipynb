{
 "cells": [
  {
   "cell_type": "markdown",
   "metadata": {},
   "source": [
    "# Train a neural network (gaussian noise during training and predicting)"
   ]
  },
  {
   "cell_type": "code",
   "execution_count": null,
   "metadata": {},
   "outputs": [],
   "source": [
    "import tensorflow as tf\n",
    "import tensorflow.keras as keras\n",
    "import numpy as np\n",
    "import pandas as pd\n",
    "from sklearn.model_selection import train_test_split\n",
    "import matplotlib.pyplot as plt"
   ]
  },
  {
   "cell_type": "markdown",
   "metadata": {},
   "source": [
    "Set seeds"
   ]
  },
  {
   "cell_type": "code",
   "execution_count": null,
   "metadata": {},
   "outputs": [],
   "source": [
    "np.random.seed(1)\n",
    "tf.random.set_seed(1)"
   ]
  },
  {
   "cell_type": "markdown",
   "metadata": {},
   "source": [
    "Set parameters"
   ]
  },
  {
   "cell_type": "code",
   "execution_count": null,
   "metadata": {},
   "outputs": [],
   "source": [
    "# file with training input and output data: format is x,y\n",
    "input_file = 'training.csv'\n",
    "\n",
    "# names of input/output columns\n",
    "inputs = ['mu', 'angle', 'threshold']\n",
    "outputs = ['low_speed', 'high_speed']\n",
    "\n",
    "# these set the input/output dimensions of the network\n",
    "input_size = len(inputs)\n",
    "output_size = len(outputs)"
   ]
  },
  {
   "cell_type": "markdown",
   "metadata": {},
   "source": [
    "Read data"
   ]
  },
  {
   "cell_type": "code",
   "execution_count": null,
   "metadata": {},
   "outputs": [],
   "source": [
    "data = pd.read_csv(input_file)\n",
    "data.columns = inputs + outputs\n",
    "\n",
    "x = np.array(data[inputs])\n",
    "y = np.array(data[outputs])"
   ]
  },
  {
   "cell_type": "markdown",
   "metadata": {},
   "source": [
    "Normalizing preprocessing layer from training data"
   ]
  },
  {
   "cell_type": "code",
   "execution_count": null,
   "metadata": {},
   "outputs": [],
   "source": [
    "normalizer = keras.layers.experimental.preprocessing.Normalization()\n",
    "normalizer.adapt(x)"
   ]
  },
  {
   "cell_type": "markdown",
   "metadata": {},
   "source": [
    "Base model"
   ]
  },
  {
   "cell_type": "code",
   "execution_count": null,
   "metadata": {},
   "outputs": [],
   "source": [
    "input_shape = x.shape[1:]\n",
    "full_model_input = keras.Input(shape=input_shape)\n",
    "normalized_input = normalizer(full_model_input)\n",
    "noise_layer_1 = keras.layers.GaussianNoise(0.025)(normalized_input[...,0],training=True)\n",
    "noise_layer_2 = keras.layers.GaussianNoise(0.025)(normalized_input[...,1],training=True)\n",
    "noise_layer_3 = keras.layers.GaussianNoise(0)(normalized_input[...,2],training=True)\n",
    "reshape_layer_1 = keras.layers.Reshape((1,))(noise_layer_1)\n",
    "reshape_layer_2 = keras.layers.Reshape((1,))(noise_layer_2)\n",
    "reshape_layer_3 = keras.layers.Reshape((1,))(noise_layer_3)\n",
    "recombined_input = keras.layers.Concatenate()([reshape_layer_1, reshape_layer_2, reshape_layer_3])\n",
    "dense_layer = keras.layers.Dense(20, activation='relu')(recombined_input)\n",
    "full_model_output = keras.layers.Dense(output_size,activation='relu')(dense_layer)\n",
    "full_model = keras.Model(full_model_input, full_model_output)\n",
    "full_model.compile(loss='mse',optimizer='adam',metrics=['mse'])"
   ]
  },
  {
   "cell_type": "markdown",
   "metadata": {},
   "source": [
    "Split data"
   ]
  },
  {
   "cell_type": "code",
   "execution_count": null,
   "metadata": {},
   "outputs": [],
   "source": [
    "x_train, x_val, y_train, y_val = train_test_split(x, y, test_size=0.33, shuffle= True)"
   ]
  },
  {
   "cell_type": "markdown",
   "metadata": {},
   "source": [
    "Train model"
   ]
  },
  {
   "cell_type": "code",
   "execution_count": null,
   "metadata": {},
   "outputs": [],
   "source": [
    "model_output = full_model.fit(x_train,y_train,epochs=600,batch_size=10,verbose=0,validation_data=(x_val,y_val)) # check validation"
   ]
  },
  {
   "cell_type": "markdown",
   "metadata": {},
   "source": [
    "View training"
   ]
  },
  {
   "cell_type": "code",
   "execution_count": null,
   "metadata": {},
   "outputs": [],
   "source": [
    "plt.yscale('log')\n",
    "plt.title('loss')\n",
    "plt.plot(model_output.history['loss'], label='train')\n",
    "plt.plot(model_output.history['val_loss'], label='validation')\n",
    "plt.legend()\n",
    "plt.figure()\n",
    "plt.yscale('log')\n",
    "plt.title('mse')\n",
    "plt.plot(model_output.history['mse'], label='train')\n",
    "plt.plot(model_output.history['val_mse'], label='validation')\n",
    "plt.legend()\n",
    "plt.figure()"
   ]
  },
  {
   "cell_type": "markdown",
   "metadata": {},
   "source": [
    "View output"
   ]
  },
  {
   "cell_type": "code",
   "execution_count": null,
   "metadata": {},
   "outputs": [],
   "source": [
    "# plot speed vs angle given mu, threshold\n",
    "mu = 0.009 # set mu\n",
    "thresh = 4 # set threshold\n",
    "\n",
    "# bug: mu = 0.009 is read as 0.0090..01\n",
    "#plot_values = [i for i in x if i[0] == mu and i[2] == thresh] # x, y\n",
    "plot_x = [i for i in x if np.isclose(i[0], mu) and i[2] == thresh] # x, y\n",
    "# this is not generic enough...\n",
    "pred_x = [[mu,angle,thresh] for angle in np.linspace(0,165,165)]\n",
    "pred = full_model.predict(pred_x)\n",
    "\n",
    "plt.title('mu = %s, thresh = %s' % (mu, thresh))\n",
    "plt.xlabel('angle (degrees)')\n",
    "plt.ylabel('speed (m/s)')\n",
    "#plt.plot([i[1] for i in plot_values], [y[i] for i,v in enumerate(x) if v[0] == mu and v[2] == thresh])\n",
    "plt.plot([i[1] for i in plot_x], [y[i] for i,v in enumerate(x) if np.isclose(v[0], mu) and v[2] == thresh], marker='o')\n",
    "plt.plot([i[1] for i in pred_x], pred, label='pred')\n",
    "plt.legend()"
   ]
  },
  {
   "cell_type": "code",
   "execution_count": null,
   "metadata": {},
   "outputs": [],
   "source": [
    "# plot speed vs angle given mu, threshold\n",
    "mu = 0.009 # set mu\n",
    "thresh = 4 # set threshold\n",
    "\n",
    "# bug: mu = 0.009 is read as 0.0090..01\n",
    "#plot_values = [i for i in x if i[0] == mu and i[2] == thresh] # x, y\n",
    "for i in range(0, 5):\n",
    "    plot_x = [i for i in x if np.isclose(i[0], mu) and i[2] == thresh] # x, y\n",
    "    # this is not generic enough...\n",
    "    pred_x = [[mu,angle,thresh] for angle in np.linspace(0,165,165)]\n",
    "    pred = full_model.predict(pred_x)\n",
    "    plt.scatter([i[1] for i in pred_x], pred[...,1])\n",
    "plt.plot([i[1] for i in plot_x], [y[i][1] for i,v in enumerate(x) if np.isclose(v[0], mu) and v[2] == thresh], label='train')"
   ]
  },
  {
   "cell_type": "markdown",
   "metadata": {},
   "source": [
    "Save model"
   ]
  },
  {
   "cell_type": "code",
   "execution_count": null,
   "metadata": {},
   "outputs": [],
   "source": [
    "full_model.save(\"flat_network_with_noise.h5\")"
   ]
  },
  {
   "cell_type": "markdown",
   "metadata": {},
   "source": [
    "Find largest divergence between prediction and training data"
   ]
  },
  {
   "cell_type": "code",
   "execution_count": null,
   "metadata": {},
   "outputs": [],
   "source": [
    "# divergence = (full_model.predict(x) - y)\n",
    "# max_divergence = max([i[1] for i in divergence])\n",
    "# print(max_divergence)\n",
    "# print(max_divergence, x[np.where(divergence == max_divergence)[0]])"
   ]
  },
  {
   "cell_type": "markdown",
   "metadata": {},
   "source": [
    "Time the network"
   ]
  },
  {
   "cell_type": "code",
   "execution_count": null,
   "metadata": {},
   "outputs": [],
   "source": [
    "# %%timeit time_x = np.array(np.random.rand(1,3))\n",
    "# full_model.predict(time_x)"
   ]
  },
  {
   "cell_type": "code",
   "execution_count": null,
   "metadata": {},
   "outputs": [],
   "source": [
    "# %%timeit time_x = np.array(np.random.rand(10,3))\n",
    "# full_model.predict(time_x)"
   ]
  },
  {
   "cell_type": "code",
   "execution_count": null,
   "metadata": {},
   "outputs": [],
   "source": [
    "# %%timeit time_x = np.array(np.random.rand(100,3))\n",
    "# full_model.predict(time_x)"
   ]
  },
  {
   "cell_type": "markdown",
   "metadata": {},
   "source": [
    "# Predictions"
   ]
  },
  {
   "cell_type": "markdown",
   "metadata": {},
   "source": [
    "Live variance calculation and adjustment"
   ]
  },
  {
   "cell_type": "code",
   "execution_count": null,
   "metadata": {},
   "outputs": [],
   "source": [
    "# plot speed vs angle given mu, threshold\n",
    "mu = 0.009 # set mu\n",
    "thresh = 4 # set threshold\n",
    "runs = 5 # runs per prediction\n",
    "\n",
    "# bug: mu = 0.009 is read as 0.0090..01\n",
    "#plot_values = [i for i in x if i[0] == mu and i[2] == thresh] # x, y\n",
    "plot_x = [i for i in x if np.isclose(i[0], mu) and i[2] == thresh] # x, y\n",
    "# this is not generic enough...\n",
    "pred_x = [[mu,angle,thresh] for angle in np.linspace(0,165,165)]\n",
    "pred = []\n",
    "\n",
    "plt.title('mu = %s, thresh = %s' % (mu, thresh))\n",
    "plt.xlabel('angle (degrees)')\n",
    "plt.ylabel('speed (m/s)')\n",
    "plt.plot([i[1] for i in plot_x], [y[i][1] for i,v in enumerate(x) if np.isclose(v[0], mu) and v[2] == thresh], marker='o', label='training')\n",
    "\n",
    "for i in pred_x:\n",
    "    point_predictions = full_model.predict([i for run in range(0, runs)])[...,1] # faster than np.tile for small arrays\n",
    "    point_predictions = np.array(point_predictions)\n",
    "    variance = point_predictions.var(axis = 0, ddof = 1) # unbiased estimator\n",
    "    mean = point_predictions.mean()\n",
    "    pred.append(mean - 2 * (variance**0.5))\n",
    "\n",
    "plt.scatter([i[1] for i in pred_x], pred, label='predictions', c='orange')\n",
    "plt.legend()"
   ]
  },
  {
   "cell_type": "markdown",
   "metadata": {},
   "source": [
    "Timing"
   ]
  },
  {
   "cell_type": "code",
   "execution_count": null,
   "metadata": {},
   "outputs": [],
   "source": [
    "runs = 100"
   ]
  },
  {
   "cell_type": "code",
   "execution_count": null,
   "metadata": {},
   "outputs": [],
   "source": [
    "%%timeit time_x = [np.random.randn(1)[0], np.random.randn(1)[0], np.random.randn(1)[0]]\n",
    "point_predictions = full_model.predict([time_x for run in range(0, runs)])[...,1] # faster than np.tile for small arrays\n",
    "point_predictions = np.array(point_predictions)\n",
    "variance = point_predictions.var(axis = 0, ddof = 1) # unbiased estimator\n",
    "mean = point_predictions.mean()\n",
    "predicted_speed = (mean - 2 * (variance**0.5))"
   ]
  },
  {
   "cell_type": "markdown",
   "metadata": {},
   "source": [
    "Some code for offline predictions"
   ]
  },
  {
   "cell_type": "code",
   "execution_count": null,
   "metadata": {},
   "outputs": [],
   "source": [
    "# # plot speed vs angle given mu, threshold with variance\n",
    "# mu = 0.009 # set mu\n",
    "# thresh = 4 # set threshold\n",
    "# plot_deviation = standard_deviation*2 # 2 std\n",
    "\n",
    "# # bug: mu = 0.009 is read as 0.0090..01\n",
    "# plot_x = [i for i in x if np.isclose(i[0], mu) and i[2] == thresh] # x, y\n",
    "# # this is not generic enough...\n",
    "# pred_x = [[mu,angle,thresh] for angle in np.linspace(0,165,165)]\n",
    "\n",
    "# plt.title('mu = %s, thresh = %s' % (mu, thresh))\n",
    "# plt.xlabel('angle (degrees)')\n",
    "# plt.ylabel('speed (m/s)')\n",
    "# #plt.plot([i[1] for i in plot_values], [y[i] for i,v in enumerate(x) if v[0] == mu and v[2] == thresh])\n",
    "# plt.plot([i[1] for i in plot_x], [y[i][1] for i,v in enumerate(x) if np.isclose(v[0], mu) and v[2] == thresh], marker='o')\n",
    "# #plt.scatter([i[1] for i in pred_x], pred[...,1], label='pred')\n",
    "# #plt.scatter([i[1] for i in pred_x], pred[...,1]-plot_deviation, label='pred - std')\n",
    "# for i in range(0, 100):\n",
    "#     pred = full_model.predict(pred_x)\n",
    "#     plt.scatter([i[1] for i in pred_x], pred[...,1]-plot_deviation, c='orange', alpha=0.01)"
   ]
  },
  {
   "cell_type": "code",
   "execution_count": null,
   "metadata": {},
   "outputs": [],
   "source": [
    "# subtract_value = tf.convert_to_tensor([standard_deviation*2]) # subtract 2 std from predictions\n",
    "\n",
    "# weights = [layer.get_weights() for layer in full_model.layers]\n",
    "\n",
    "# input_shape = x.shape[1:]\n",
    "# prediction_model_input = keras.Input(shape=input_shape)\n",
    "# normalized_input = normalizer(prediction_model_input)\n",
    "# noise_layer_1 = keras.layers.GaussianNoise(0.025)(normalized_input[...,0],training=False)\n",
    "# noise_layer_2 = keras.layers.GaussianNoise(0.025)(normalized_input[...,1],training=False)\n",
    "# noise_layer_3 = keras.layers.GaussianNoise(0)(normalized_input[...,2],training=False)\n",
    "# reshape_layer_1 = keras.layers.Reshape((1,))(noise_layer_1)\n",
    "# reshape_layer_2 = keras.layers.Reshape((1,))(noise_layer_2)\n",
    "# reshape_layer_3 = keras.layers.Reshape((1,))(noise_layer_3)\n",
    "# recombined_input = keras.layers.Concatenate()([reshape_layer_1, reshape_layer_2, reshape_layer_3])\n",
    "# dense_layer = keras.layers.Dense(20, activation='relu')(recombined_input)\n",
    "# prediction_model_output = keras.layers.Dense(output_size,activation='relu')(dense_layer)\n",
    "# prediction_model_subtract = keras.layers.Subtract()([prediction_model_output, subtract_value])\n",
    "# prediction_model = keras.Model(prediction_model_input, prediction_model_subtract)\n",
    "# prediction_model.compile(loss='mse',optimizer='adam',metrics=['mse'])\n",
    "\n",
    "# for i in range(len(weights)):\n",
    "#     prediction_model.layers[i].set_weights(weights[i])"
   ]
  },
  {
   "cell_type": "code",
   "execution_count": null,
   "metadata": {},
   "outputs": [],
   "source": [
    "# # plot speed vs angle given mu, threshold\n",
    "# mu = 0.009 # set mu\n",
    "# thresh = 4 # set threshold\n",
    "\n",
    "# # bug: mu = 0.009 is read as 0.0090..01\n",
    "# #plot_values = [i for i in x if i[0] == mu and i[2] == thresh] # x, y\n",
    "# plot_x = [i for i in x if np.isclose(i[0], mu) and i[2] == thresh] # x, y\n",
    "# # this is not generic enough...\n",
    "# pred_x = [[mu,angle,thresh] for angle in np.linspace(0,165,165)]\n",
    "# pred = prediction_model.predict(pred_x)\n",
    "\n",
    "# plt.title('mu = %s, thresh = %s' % (mu, thresh))\n",
    "# plt.xlabel('angle (degrees)')\n",
    "# plt.ylabel('speed (m/s)')\n",
    "# #plt.plot([i[1] for i in plot_values], [y[i] for i,v in enumerate(x) if v[0] == mu and v[2] == thresh])\n",
    "# plt.plot([i[1] for i in plot_x], [y[i][1] for i,v in enumerate(x) if np.isclose(v[0], mu) and v[2] == thresh], marker='o')\n",
    "# plt.plot([i[1] for i in pred_x], pred[...,1]+subtract_value, label='pred') # change this to an actual prediction\n",
    "# plt.plot([i[1] for i in pred_x], pred[...,1], label='pred - 2std')\n",
    "# plt.legend()"
   ]
  },
  {
   "cell_type": "code",
   "execution_count": null,
   "metadata": {},
   "outputs": [],
   "source": [
    "# prediction_model.save(\"gaussian_prediction_network.h5\")"
   ]
  },
  {
   "cell_type": "markdown",
   "metadata": {},
   "source": [
    "Make a lot of plots"
   ]
  },
  {
   "cell_type": "code",
   "execution_count": null,
   "metadata": {},
   "outputs": [],
   "source": [
    "# # only plot the high prediction...\n",
    "# mus = data['mu'].unique()\n",
    "# angles = data['angle'].unique()\n",
    "# thresholds = data['threshold'].unique()\n",
    "# a=0\n",
    "# # plot speed vs angle given mu, threshold\n",
    "# for mu in mus:\n",
    "#     for threshold in thresholds:\n",
    "#         # bug: mu = 0.009 is read as 0.0090..01\n",
    "#         #plot_values = [i for i in x if i[0] == mu and i[2] == thresh] # x, y\n",
    "#         plot_x = [i for i in x if np.isclose(i[0], mu) and i[2] == threshold] # x, y\n",
    "#         pred_x = [[mu,angle,threshold] for angle in np.linspace(angles.min(),angles.max(),angles.max())]\n",
    "#         pred = prediction_model.predict(pred_x)\n",
    "#         #plt.plot([i[1] for i in plot_values], [y[i] for i,v in enumerate(x) if v[0] == mu and v[2] == thresh])\n",
    "#         fig = plt.figure()\n",
    "#         plt.title('mu: %.3f, threshold: %.2f' % (mu, threshold))\n",
    "#         plt.plot([i[1] for i in plot_x], [y[i][1] for i,v in enumerate(x) if np.isclose(v[0], mu) and v[2] == threshold],\n",
    "#                 label = 'training')\n",
    "#         plt.plot([i[1] for i in pred_x], [i[1] for i in pred], label = 'predicted')\n",
    "#         plt.legend()\n",
    "#         plt.savefig('plots/mu-%.3f_threshold-%.2f.png' % (mu,threshold))\n",
    "#         plt.close()"
   ]
  },
  {
   "cell_type": "markdown",
   "metadata": {},
   "source": [
    "Some plots for the paper"
   ]
  },
  {
   "cell_type": "code",
   "execution_count": null,
   "metadata": {},
   "outputs": [],
   "source": [
    "# plot speed vs angle given mu, threshold\n",
    "mu = 0.05 # set mu\n",
    "#thresh = data['threshold'].unique() # set threshold\n",
    "thresh = [1.0, 2.0, 3.0, 4.0]\n",
    "\n",
    "# diff markers\n",
    "m = 0\n",
    "markers = ['o', 's', 'd', '*']\n",
    "\n",
    "#plt.title('mu = %s' % (mu))#, thresh))\n",
    "plt.xlabel('Angle (degrees)',size='18')\n",
    "plt.ylabel('Speed (m/s)',size='18')\n",
    "plt.ylim(0.9, 2.1)\n",
    "for t in thresh:\n",
    "    plot_x = [i for i in x if np.isclose(i[0], mu) and i[2] == t] # x, y\n",
    "    plt.plot([i[1] for i in plot_x], [y[i][1] for i,v in enumerate(x) if np.isclose(v[0], mu) and v[2] == t], marker=markers[m], label='%d m' % (t))\n",
    "    m+=1\n",
    "plt.tight_layout()\n",
    "plt.legend()\n",
    "plt.savefig('0.05.png')"
   ]
  },
  {
   "cell_type": "code",
   "execution_count": null,
   "metadata": {},
   "outputs": [],
   "source": [
    "# plot speed vs angle given mu, threshold\n",
    "mu = 0.05 # set mu\n",
    "thresh = 4 # set threshold\n",
    "runs = 10 # runs per prediction\n",
    "\n",
    "# bug: mu = 0.009 is read as 0.0090..01\n",
    "#plot_values = [i for i in x if i[0] == mu and i[2] == thresh] # x, y\n",
    "plot_x = [i for i in x if np.isclose(i[0], mu) and i[2] == thresh] # x, y\n",
    "# this is not generic enough...\n",
    "pred_x = [[mu,angle,thresh] for angle in np.linspace(0,165,165)]\n",
    "pred = []\n",
    "\n",
    "plt.title('Uncertainty Adjustment at mu = %s, threshold = %s m' % (mu, thresh))\n",
    "plt.xlabel('Angle (degrees)', size=18)\n",
    "plt.ylabel('Speed (m/s)', size=18)\n",
    "plt.plot([i[1] for i in plot_x], [y[i][1] for i,v in enumerate(x) if np.isclose(v[0], mu) and v[2] == thresh], marker='o', label='training')\n",
    "\n",
    "# unadjusted predictions\n",
    "\n",
    "for i in pred_x:\n",
    "    point_predictions = full_model.predict([i for run in range(0, 1)])[...,1] # faster than np.tile for small arrays\n",
    "    point_predictions = np.array(point_predictions)\n",
    "    pred.append(point_predictions)\n",
    "\n",
    "plt.scatter([i[1] for i in pred_x], pred, label='unadjusted', c='red', alpha=0.5)\n",
    "\n",
    "# adjusted predictions\n",
    "\n",
    "pred = []\n",
    "\n",
    "for i in pred_x:\n",
    "    point_predictions = full_model.predict([i for run in range(0, runs)])[...,1] # faster than np.tile for small arrays\n",
    "    point_predictions = np.array(point_predictions)\n",
    "    variance = point_predictions.var(axis = 0, ddof = 1) # unbiased estimator\n",
    "    mean = point_predictions.mean()\n",
    "    pred.append(mean - 2 * (variance**0.5))\n",
    "\n",
    "#plt.scatter([i[1] for i in pred_x], pred, label='predictions', c='orange')\n",
    "plt.scatter([i[1] for i in pred_x], pred, label='adjusted', c='orange', alpha=0.5)\n",
    "\n",
    "plt.tight_layout()\n",
    "plt.legend()\n",
    "plt.savefig('uncertainty_adjustment.png')"
   ]
  },
  {
   "cell_type": "code",
   "execution_count": null,
   "metadata": {},
   "outputs": [],
   "source": [
    "# plot speed vs angle given mu, threshold\n",
    "mu = 0.05 # set mu\n",
    "thresh = 4 # set threshold\n",
    "runs = 10 # runs per prediction\n",
    "\n",
    "# bug: mu = 0.009 is read as 0.0090..01\n",
    "#plot_values = [i for i in x if i[0] == mu and i[2] == thresh] # x, y\n",
    "plot_x = [i for i in x if np.isclose(i[0], mu) and i[2] == thresh] # x, y\n",
    "# this is not generic enough...\n",
    "pred_x = [[mu,angle,thresh] for angle in np.linspace(0,165,165)]\n",
    "\n",
    "unadj_pred = []\n",
    "\n",
    "for i in pred_x:\n",
    "    point_predictions = full_model.predict([i for run in range(0, 1)])[...,1] # faster than np.tile for small arrays\n",
    "    point_predictions = np.array(point_predictions)\n",
    "    unadj_pred.append(point_predictions)\n",
    "    \n",
    "adj_pred = []\n",
    "\n",
    "for i in pred_x:\n",
    "    point_predictions = full_model.predict([i for run in range(0, runs)])[...,1] # faster than np.tile for small arrays\n",
    "    point_predictions = np.array(point_predictions)\n",
    "    variance = point_predictions.var(axis = 0, ddof = 1) # unbiased estimator\n",
    "    mean = point_predictions.mean()\n",
    "    adj_pred.append(mean - 2 * (variance**0.5))"
   ]
  },
  {
   "cell_type": "code",
   "execution_count": null,
   "metadata": {},
   "outputs": [],
   "source": [
    "for i,v in enumerate(pred_x):\n",
    "    v.append(unadj_pred[i][0])\n",
    "    v.append(adj_pred[i])"
   ]
  },
  {
   "cell_type": "code",
   "execution_count": null,
   "metadata": {},
   "outputs": [],
   "source": [
    "pd.DataFrame(pred_x).to_csv(\"adjusted_predictions.csv\", header=None, index=None)"
   ]
  },
  {
   "cell_type": "code",
   "execution_count": null,
   "metadata": {},
   "outputs": [],
   "source": []
  }
 ],
 "metadata": {
  "kernelspec": {
   "display_name": "Tensorflow 2.1/Keras Py3.7",
   "language": "python",
   "name": "tensorflow210_py37"
  },
  "language_info": {
   "codemirror_mode": {
    "name": "ipython",
    "version": 3
   },
   "file_extension": ".py",
   "mimetype": "text/x-python",
   "name": "python",
   "nbconvert_exporter": "python",
   "pygments_lexer": "ipython3",
   "version": "3.7.5"
  }
 },
 "nbformat": 4,
 "nbformat_minor": 4
}
