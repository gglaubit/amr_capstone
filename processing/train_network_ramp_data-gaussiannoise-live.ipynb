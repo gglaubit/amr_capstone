{
 "cells": [
  {
   "cell_type": "markdown",
   "metadata": {},
   "source": [
    "# Train a neural network (velocity for ramps with gaussian noise)"
   ]
  },
  {
   "cell_type": "code",
   "execution_count": null,
   "metadata": {},
   "outputs": [],
   "source": [
    "import tensorflow as tf\n",
    "import tensorflow.keras as keras\n",
    "import numpy as np\n",
    "import pandas as pd\n",
    "from sklearn.model_selection import train_test_split\n",
    "import matplotlib.pyplot as plt"
   ]
  },
  {
   "cell_type": "markdown",
   "metadata": {},
   "source": [
    "Set seeds"
   ]
  },
  {
   "cell_type": "code",
   "execution_count": null,
   "metadata": {},
   "outputs": [],
   "source": [
    "np.random.seed(1)\n",
    "tf.random.set_seed(1)"
   ]
  },
  {
   "cell_type": "markdown",
   "metadata": {},
   "source": [
    "Set parameters"
   ]
  },
  {
   "cell_type": "code",
   "execution_count": null,
   "metadata": {},
   "outputs": [],
   "source": [
    "# file with training input and output data: format is x,y\n",
    "input_file = 'MAR2_negative_ramps.csv'\n",
    "\n",
    "# names of input/output columns\n",
    "inputs = ['mu', 'length', 'angle']\n",
    "outputs = ['speed']\n",
    "\n",
    "# these set the input/output dimensions of the network\n",
    "input_size = len(inputs)\n",
    "output_size = len(outputs)"
   ]
  },
  {
   "cell_type": "markdown",
   "metadata": {},
   "source": [
    "Read data"
   ]
  },
  {
   "cell_type": "code",
   "execution_count": null,
   "metadata": {},
   "outputs": [],
   "source": [
    "data = pd.read_csv(input_file)\n",
    "data.columns = inputs + outputs\n",
    "\n",
    "x = np.array(data[inputs])\n",
    "y = np.array(data[outputs])"
   ]
  },
  {
   "cell_type": "markdown",
   "metadata": {},
   "source": [
    "Normalizing preprocessing layer from training data"
   ]
  },
  {
   "cell_type": "code",
   "execution_count": null,
   "metadata": {},
   "outputs": [],
   "source": [
    "normalizer = keras.layers.experimental.preprocessing.Normalization()\n",
    "normalizer.adapt(x)"
   ]
  },
  {
   "cell_type": "markdown",
   "metadata": {},
   "source": [
    "Penalize predictions on the wrong side more"
   ]
  },
  {
   "cell_type": "code",
   "execution_count": null,
   "metadata": {},
   "outputs": [],
   "source": [
    "if 'negative' in input_file: # penalize overpredictions\n",
    "    def asymmetric_mse(y_true, y_pred):\n",
    "        standard_mse = keras.losses.mse(y_true, y_pred)\n",
    "        geq = keras.backend.any(keras.backend.greater(y_pred, y_true)) # true/false, are there overpredictions?\n",
    "        geq_scale = keras.backend.switch(geq,10.0,1.0) # if there are overpredictions, scale up mse\n",
    "        return geq_scale * standard_mse\n",
    "elif 'positive' in input_file: # penalize underpredictions\n",
    "    def asymmetric_mse(y_true, y_pred):\n",
    "        standard_mse = keras.losses.mse(y_true, y_pred)\n",
    "        leq = keras.backend.any(keras.backend.less(y_pred, y_true)) # true/false, are there underpredictions?\n",
    "        leq_scale = keras.backend.switch(leq,5.0,1.0) # if there are underpredictions, scale up mse\n",
    "        return leq_scale * standard_mse"
   ]
  },
  {
   "cell_type": "markdown",
   "metadata": {},
   "source": [
    "Base model"
   ]
  },
  {
   "cell_type": "code",
   "execution_count": null,
   "metadata": {},
   "outputs": [],
   "source": [
    "input_shape = x.shape[1:]\n",
    "full_model_input = keras.Input(shape=input_shape)\n",
    "normalized_input = normalizer(full_model_input)\n",
    "noise_layer_1 = keras.layers.GaussianNoise(0.025)(normalized_input[...,0],training=True)\n",
    "noise_layer_2 = keras.layers.GaussianNoise(0.025)(normalized_input[...,1],training=True)\n",
    "noise_layer_3 = keras.layers.GaussianNoise(0.025)(normalized_input[...,2],training=True)\n",
    "reshape_layer_1 = keras.layers.Reshape((1,))(noise_layer_1)\n",
    "reshape_layer_2 = keras.layers.Reshape((1,))(noise_layer_2)\n",
    "reshape_layer_3 = keras.layers.Reshape((1,))(noise_layer_3)\n",
    "recombined_input = keras.layers.Concatenate()([reshape_layer_1, reshape_layer_2, reshape_layer_3])\n",
    "dense_layer_1 = keras.layers.Dense(10, activation='relu')(recombined_input)\n",
    "#dense_layer_2 = keras.layers.Dense(10, activation='relu')(dense_layer_1)\n",
    "full_model_output = keras.layers.Dense(output_size,activation='relu')(dense_layer_1)\n",
    "full_model = keras.Model(full_model_input, full_model_output)\n",
    "full_model.compile(loss=asymmetric_mse,optimizer='adam',metrics=['mse'])"
   ]
  },
  {
   "cell_type": "markdown",
   "metadata": {},
   "source": [
    "Split data"
   ]
  },
  {
   "cell_type": "code",
   "execution_count": null,
   "metadata": {},
   "outputs": [],
   "source": [
    "x_train, x_val, y_train, y_val = train_test_split(x, y, test_size=0.20, shuffle= True)\n",
    "# x_train = x\n",
    "# y_train = y\n",
    "# x_val = np.array([[0., 0., 0.]])\n",
    "# y_val = np.array([0.])"
   ]
  },
  {
   "cell_type": "markdown",
   "metadata": {},
   "source": [
    "Train model"
   ]
  },
  {
   "cell_type": "code",
   "execution_count": null,
   "metadata": {},
   "outputs": [],
   "source": [
    "model_output = full_model.fit(x_train,y_train,epochs=1000,batch_size=1,verbose=0,validation_data=(x_val,y_val)) # check validation"
   ]
  },
  {
   "cell_type": "markdown",
   "metadata": {},
   "source": [
    "View training"
   ]
  },
  {
   "cell_type": "code",
   "execution_count": null,
   "metadata": {},
   "outputs": [],
   "source": [
    "plt.yscale('log')\n",
    "plt.title('loss')\n",
    "plt.plot(model_output.history['loss'], label='train')\n",
    "plt.plot(model_output.history['val_loss'], label='validation')\n",
    "plt.legend()\n",
    "plt.figure()\n",
    "plt.yscale('log')\n",
    "plt.title('mse')\n",
    "plt.plot(model_output.history['mse'], label='train')\n",
    "plt.plot(model_output.history['val_mse'], label='validation')\n",
    "plt.legend()\n",
    "plt.figure()"
   ]
  },
  {
   "cell_type": "markdown",
   "metadata": {},
   "source": [
    "View output"
   ]
  },
  {
   "cell_type": "code",
   "execution_count": null,
   "metadata": {},
   "outputs": [],
   "source": [
    "# # plot speed vs angle given mu, length\n",
    "# mu = 1 # set mu\n",
    "# length = 1 # set length\n",
    "# angles = angles = data['angle'].unique()\n",
    "# angle = np.linspace(min(angles),max(angles),50)\n",
    "\n",
    "# # bug: mu = 0.009 is read as 0.0090..01\n",
    "# #plot_values = [i for i in x if i[0] == mu and i[2] == thresh] # x, y\n",
    "# plot_x = [i for i in x if (np.isclose(i[0], mu) and np.isclose(i[1], length))] # x, y\n",
    "# # this is not generic enough...\n",
    "# pred_x = [[mu, length, a] for a in angle]\n",
    "# pred = full_model.predict(pred_x)\n",
    "\n",
    "# plt.scatter([i[2] for i in plot_x], [y[i] for i,v in enumerate(x) if (np.isclose(v[0], mu) and np.isclose(v[1], length))])\n",
    "# plt.scatter([i[2] for i in pred_x], pred)\n",
    "# plt.title('mu: %0.2f, length: %0.2f' % (mu, length))"
   ]
  },
  {
   "cell_type": "markdown",
   "metadata": {},
   "source": [
    "Plot all of the data - red stars are validation"
   ]
  },
  {
   "cell_type": "code",
   "execution_count": null,
   "metadata": {},
   "outputs": [],
   "source": [
    "mus = data['mu'].unique()\n",
    "lengths = data['length'].unique()\n",
    "angles = angles = data['angle'].unique()\n",
    "angle = np.linspace(min(angles),max(angles),50)\n",
    "\n",
    "for mu in mus:\n",
    "    for length in lengths:\n",
    "        plot_xy = [[v, y[i]] for i,v in enumerate(x) if (np.isclose(v[0], mu) and np.isclose(v[1], length))] # x, y\n",
    "\n",
    "        # this is not generic enough...\n",
    "        pred_x = [[mu, length, a] for a in angle]\n",
    "        pred = full_model.predict(pred_x)\n",
    "        \n",
    "        # color based on train/validate set\n",
    "        plot_train = [i for i in plot_xy if i[0].tolist() in x_train.tolist()]\n",
    "        plot_val = [i for i in plot_xy if i[0].tolist() in x_val]#.tolist()]\n",
    "                \n",
    "        plt.scatter([i[2] for i in pred_x], pred, c='orange')\n",
    "        \n",
    "        plt.scatter([i[0][2] for i in plot_train], [i[1] for i in plot_train], c='blue')\n",
    "        plt.scatter([i[0][2] for i in plot_val], [i[1] for i in plot_val], c='red', marker='*')\n",
    "        \n",
    "        plt.title('mu: %0.2f, length: %0.2f' % (mu, length))\n",
    "        plt.savefig('validation/mu-%0.2f-length-%0.2f.png' % (mu, length))\n",
    "        plt.figure()"
   ]
  },
  {
   "cell_type": "code",
   "execution_count": null,
   "metadata": {},
   "outputs": [],
   "source": [
    "mu = 1 # set mu\n",
    "length = 1 # set length\n",
    "angles = angles = data['angle'].unique()\n",
    "angle = np.linspace(min(angles),max(angles),50)\n",
    "\n",
    "plot_x = [i for i in x if (np.isclose(i[0], mu) and np.isclose(i[1], length))]\n",
    "pred_x = [[mu, length, a] for a in angle]\n",
    "\n",
    "for i in range(0, 10):\n",
    "    pred = full_model.predict(pred_x)\n",
    "    plt.scatter([i[2] for i in pred_x], pred, c='orange', alpha='0.3')\n",
    "plt.scatter([i[2] for i in plot_x], [y[i] for i,v in enumerate(x) if (np.isclose(v[0], mu) and np.isclose(v[1], length))],)\n",
    "plt.title('mu: %0.2f, length: %0.2f' % (mu, length))"
   ]
  },
  {
   "cell_type": "markdown",
   "metadata": {},
   "source": [
    "Save model"
   ]
  },
  {
   "cell_type": "code",
   "execution_count": null,
   "metadata": {},
   "outputs": [],
   "source": [
    "full_model.save('positive_ramp_network_with_noise.h5')"
   ]
  },
  {
   "cell_type": "markdown",
   "metadata": {},
   "source": [
    "# Predictions"
   ]
  },
  {
   "cell_type": "markdown",
   "metadata": {},
   "source": [
    "Shift the predictions by subtracting variance from the mean of several runs"
   ]
  },
  {
   "cell_type": "code",
   "execution_count": null,
   "metadata": {},
   "outputs": [],
   "source": [
    "# plot speed vs angle given mu, length\n",
    "angles = angles = data['angle'].unique()\n",
    "angle = np.linspace(min(angles),max(angles),50)\n",
    "mu = 0.5 # set mu\n",
    "length = 1 # set length\n",
    "runs = 10 # runs per prediction\n",
    "\n",
    "# bug: mu = 0.009 is read as 0.0090..01\n",
    "#plot_values = [i for i in x if i[0] == mu and i[2] == thresh] # x, y\n",
    "plot_x = [i for i in x if (np.isclose(i[0], mu) and np.isclose(i[1], length))] # x, y\n",
    "# this is not generic enough...\n",
    "pred_x = [[mu,length,a] for a in angle]\n",
    "pred = []\n",
    "\n",
    "plt.title('mu = %s, length = %s' % (mu, length))\n",
    "plt.xlabel('angle (radians)')\n",
    "plt.ylabel('speed (m/s)')\n",
    "plt.scatter([i[2] for i in plot_x], [y[i] for i,v in enumerate(x) if np.isclose(v[0], mu) and np.isclose(v[1], length)], marker='o', label='training')\n",
    "\n",
    "for i in pred_x:\n",
    "    point_predictions = full_model.predict([i for run in range(0, runs)]) # faster than np.tile for small arrays\n",
    "    point_predictions = np.array(point_predictions)\n",
    "    variance = point_predictions.var(axis = 0, ddof = 1) # unbiased estimator\n",
    "    mean = point_predictions.mean()\n",
    "    if i[2] > 0: # if it is an up ramp\n",
    "        pred.append(mean + 2 * (variance**0.5)) # overpredict\n",
    "    else: # if it is a down ramp\n",
    "        pred.append(mean - 2 * (variance**0.5)) # underpredict\n",
    "\n",
    "plt.scatter([i[2] for i in pred_x], pred, label='predictions', c='orange')\n",
    "plt.legend()"
   ]
  },
  {
   "cell_type": "markdown",
   "metadata": {},
   "source": [
    "Shift the predictions by subtracting variance from the mean of several runs and then overlay multiple replications"
   ]
  },
  {
   "cell_type": "code",
   "execution_count": null,
   "metadata": {},
   "outputs": [],
   "source": [
    "# plot speed vs angle given mu, length\n",
    "angles = angles = data['angle'].unique()\n",
    "angle = np.linspace(min(angles),max(angles),50)\n",
    "mu = 1 # set mu\n",
    "length = 1 # set length\n",
    "runs = 10 # runs per prediction\n",
    "replications = 5\n",
    "\n",
    "# bug: mu = 0.009 is read as 0.0090..01\n",
    "#plot_values = [i for i in x if i[0] == mu and i[2] == thresh] # x, y\n",
    "plot_x = [i for i in x if (np.isclose(i[0], mu) and np.isclose(i[1], length))] # x, y\n",
    "# this is not generic enough...\n",
    "pred_x = [[mu,length,a] for a in angle]\n",
    "pred = []\n",
    "\n",
    "plt.title('mu = %s, length = %s' % (mu, length))\n",
    "plt.xlabel('angle (radians)')\n",
    "plt.ylabel('speed (m/s)')\n",
    "plt.scatter([i[2] for i in plot_x], [y[i] for i,v in enumerate(x) if np.isclose(v[0], mu) and np.isclose(v[1], length)], marker='o', label='training')\n",
    "for rep in range(0, replications):\n",
    "    pred = []\n",
    "    for i in pred_x:\n",
    "        point_predictions = full_model.predict([i for run in range(0, runs)]) # faster than np.tile for small arrays\n",
    "        point_predictions = np.array(point_predictions)\n",
    "        variance = point_predictions.var(axis = 0, ddof = 1) # unbiased estimator\n",
    "        mean = point_predictions.mean()\n",
    "        if i[2] > 0: # if it is an up ramp\n",
    "            pred.append(mean + 2 * (variance**0.5)) # overpredict\n",
    "        else: # if it is a down ramp\n",
    "            pred.append(mean - 2 * (variance**0.5)) # underpredict\n",
    "    plt.scatter([i[2] for i in pred_x], pred, alpha=0.3, c='orange')\n",
    "plt.legend()"
   ]
  },
  {
   "cell_type": "markdown",
   "metadata": {},
   "source": [
    "Make a lot of plots"
   ]
  },
  {
   "cell_type": "code",
   "execution_count": null,
   "metadata": {},
   "outputs": [],
   "source": [
    "# mus = data['mu'].unique()\n",
    "# lengths = data['length'].unique()\n",
    "# angles = data['angle'].unique()\n",
    "# a=0\n",
    "# # plot speed vs angle given mu, threshold\n",
    "# for mu in mus:\n",
    "#     for length in lengths:\n",
    "#         # bug: mu = 0.009 is read as 0.0090..01\n",
    "#         #plot_values = [i for i in x if i[0] == mu and i[2] == thresh] # x, y\n",
    "#         plot_x = [i for i in x if (np.isclose(i[0], mu) and np.isclose(i[1], length))] # x, y\n",
    "#         pred_x = [[mu,length,angle] for angle in np.linspace(angles.min(),angles.max(),30)]\n",
    "#         pred = full_model.predict(pred_x)\n",
    "#         #plt.plot([i[1] for i in plot_values], [y[i] for i,v in enumerate(x) if v[0] == mu and v[2] == thresh])\n",
    "#         fig = plt.figure()\n",
    "#         plt.title('mu: %.3f, length: %.2f' % (mu, length))\n",
    "#         plt.scatter([i[2] for i in plot_x], [y[i] for i,v in enumerate(x) if (np.isclose(v[0], mu) and np.isclose(v[1], length))],\n",
    "#                 label = 'training')\n",
    "#         plt.plot([i[2] for i in pred_x], pred, label = 'predicted', color='orange', marker='o')\n",
    "#         plt.legend()\n",
    "#         plt.savefig('plots/mu-%.3f_length-%.2f.png' % (mu,length))\n",
    "#         plt.close()"
   ]
  }
 ],
 "metadata": {
  "kernelspec": {
   "display_name": "Tensorflow 2.1/Keras Py3.7",
   "language": "python",
   "name": "tensorflow210_py37"
  },
  "language_info": {
   "codemirror_mode": {
    "name": "ipython",
    "version": 3
   },
   "file_extension": ".py",
   "mimetype": "text/x-python",
   "name": "python",
   "nbconvert_exporter": "python",
   "pygments_lexer": "ipython3",
   "version": "3.7.5"
  }
 },
 "nbformat": 4,
 "nbformat_minor": 4
}
